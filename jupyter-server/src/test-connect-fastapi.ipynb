{
 "cells": [
  {
   "cell_type": "code",
   "execution_count": 2,
   "id": "966d4790-261c-4448-b3ff-e90f99808657",
   "metadata": {
    "tags": []
   },
   "outputs": [
    {
     "name": "stdout",
     "output_type": "stream",
     "text": [
      "Status code: 200\n",
      "Response: {\"data\":[{\"id\":1,\"value\":\"1st\"},{\"id\":2,\"value\":\"2nd\"},{\"id\":3,\"value\":\"3rd\"},{\"id\":4,\"value\":\"4th\"},{\"id\":5,\"value\":\"5th\"}]}\n"
     ]
    }
   ],
   "source": [
    "import requests\n",
    "\n",
    "## backend-server에서 만든 api를 jupyter-server에서 get하고 싶음!\n",
    "r = requests.get(\"http://test-backend-server:8000/mysql/get\")\n",
    "print(\"Status code:\", r.status_code)\n",
    "print(\"Response:\", r.text)"
   ]
  },
  {
   "cell_type": "code",
   "execution_count": null,
   "id": "43053694-1f64-4739-805a-4aced1497d3e",
   "metadata": {},
   "outputs": [],
   "source": []
  }
 ],
 "metadata": {
  "kernelspec": {
   "display_name": "Python 3 (ipykernel)",
   "language": "python",
   "name": "python3"
  },
  "language_info": {
   "codemirror_mode": {
    "name": "ipython",
    "version": 3
   },
   "file_extension": ".py",
   "mimetype": "text/x-python",
   "name": "python",
   "nbconvert_exporter": "python",
   "pygments_lexer": "ipython3",
   "version": "3.7.16"
  }
 },
 "nbformat": 4,
 "nbformat_minor": 5
}
